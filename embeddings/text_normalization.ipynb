{
 "cells": [
  {
   "cell_type": "code",
   "execution_count": 2,
   "metadata": {
    "collapsed": true
   },
   "outputs": [],
   "source": [
    "# Imports\n",
    "import numpy as np\n",
    "import re\n",
    "import pickle as pkl"
   ]
  },
  {
   "cell_type": "code",
   "execution_count": 3,
   "metadata": {
    "collapsed": false
   },
   "outputs": [],
   "source": [
    "# Load wikipedia extracts\n",
    "with open(\"data/wikipedia2text-extracted.txt\", \"rb\") as f:\n",
    "#with open(\"data/test_article.txt\") as f:\n",
    "    wiki_extracted = f.read().decode()"
   ]
  },
  {
   "cell_type": "code",
   "execution_count": 9,
   "metadata": {
    "collapsed": false
   },
   "outputs": [],
   "source": [
    "def normalize(text):\n",
    "    \"\"\"\n",
    "    Removes punctuation from text, lower-cases it, and handles whitespaces.\n",
    "    Splits text into sentences and then words.\n",
    "    \n",
    "    Parameters\n",
    "    ----------\n",
    "    text: str\n",
    "    \n",
    "    Returns\n",
    "    -------\n",
    "    list(list(str))\n",
    "    \"\"\"\n",
    "    text = re.sub(r\"(https?:\\/\\/)?([\\da-z\\.-]+)\\.([a-z]{2,6})([\\/\\w \\.-]*)*\\/?\", \"<link>\", text) # replaces links\n",
    "    text = re.sub(r\"[\\.,](?=\\w)\", \"\", text) # removes periods/commas followed immediately by alphanumeric\n",
    "    text = text.replace(\".\", \"\\n\") # replaces remaining periods with new lines\n",
    "    text = re.sub(r\"\\s([0-9]+)(?=[\\s\\.,])\", \" <num>\", text) # replaces numbers with <num>\n",
    "    punctuation = re.compile(\"[^\\w\\s<>]|_\") # \"not words, numbers, underscores, or spaces; or underscores\"\n",
    "    text = re.sub(punctuation, \" \", text) # replaces remaining punctuation with space\n",
    "    lines = text.lower().splitlines() # splits into individual lines/sentences\n",
    "    return \"\\n\".join(lines)\n",
    "    # return [l.split() for l in lines if len(l.split()) > 0] # splits each line into tokens"
   ]
  },
  {
   "cell_type": "code",
   "execution_count": 10,
   "metadata": {
    "collapsed": false
   },
   "outputs": [],
   "source": [
    "tokens = normalize(wiki_extracted)"
   ]
  },
  {
   "cell_type": "code",
   "execution_count": 11,
   "metadata": {
    "collapsed": false,
    "scrolled": true
   },
   "outputs": [
    {
     "name": "stdout",
     "output_type": "stream",
     "text": [
      "Tokens: 63409450\n"
     ]
    }
   ],
   "source": [
    "print(\"Tokens:\", len(tokens))"
   ]
  },
  {
   "cell_type": "code",
   "execution_count": 18,
   "metadata": {
    "collapsed": false
   },
   "outputs": [],
   "source": [
    "# Store tokens into text file to be read elsewhere\n",
    "with open(\"data/wiki_tokens.txt\", \"wb\") as f:\n",
    "    pkl.dump(tokens, f)"
   ]
  },
  {
   "cell_type": "code",
   "execution_count": 12,
   "metadata": {
    "collapsed": false
   },
   "outputs": [],
   "source": [
    "# Store tokens into text file to be read elsewhere\n",
    "with open(\"data/wiki_text.txt\", \"w\", encoding=\"UTF8\") as f:\n",
    "    f.write(tokens)"
   ]
  },
  {
   "cell_type": "code",
   "execution_count": null,
   "metadata": {
    "collapsed": true
   },
   "outputs": [],
   "source": []
  }
 ],
 "metadata": {
  "anaconda-cloud": {},
  "kernelspec": {
   "display_name": "Python [conda root]",
   "language": "python",
   "name": "conda-root-py"
  },
  "language_info": {
   "codemirror_mode": {
    "name": "ipython",
    "version": 3
   },
   "file_extension": ".py",
   "mimetype": "text/x-python",
   "name": "python",
   "nbconvert_exporter": "python",
   "pygments_lexer": "ipython3",
   "version": "3.5.2"
  }
 },
 "nbformat": 4,
 "nbformat_minor": 1
}
